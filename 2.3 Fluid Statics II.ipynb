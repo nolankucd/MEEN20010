{
 "cells": [
  {
   "cell_type": "markdown",
   "metadata": {},
   "source": [
    "# Introduction\n",
    "\n",
    "\n",
    "## Learning outcomes\n",
    "\n",
    "* Understand hydrostatic forces on inclined surfaces\n",
    "* Learn about and how to use the concept of the pressure prism\n",
    "* Understand hydrostatic forces on curved surfaces\n",
    "* Learn about buoyancy and how heavy things like ships float\n",
    "\n",
    "## Hydrostatic force on plane surfaces\n",
    "\n",
    "\n",
    "\n",
    "Consider a large rectangular water tank such as a swimming pool.\n",
    "We've already looked at the effect of depth on pressure but now we want to look as the forces exerted by the fluid on its surroundings.\n",
    "\n",
    "<img src=\"media/2.3/pool0.png\" alt=\"A swimming pool\" width=\"600\" title=\"Swimming pool\" />\n",
    "\n",
    "We want to understand the fores the volume of fluid exerts on the bottom and side walls.\n",
    "\n",
    "<img src=\"media/2.3/pool1.png\" alt=\"A swimming pool\" width=\"600\" title=\"Swimming pool\" />\n",
    "\n",
    "Which we can simplify this example into a 2D problem as shown below. Note that the inverted triangle represents the level of the free surface which is subject to atmospheric pressure. We can consider it analogous to an electrical ground.\n",
    "\n",
    "<img src=\"media/2.3/pool2.png\" alt=\"A swimming pool\" width=\"800\" title=\"Swimming pool\" />\n",
    "\n",
    "For the forces acting on the bottom surface (area $A$) we can simply integrate over the pressure distribution on that surface.\n",
    "\n",
    "\\begin{equation}\n",
    "F_R = \\int_A p dA = \\gamma h A\n",
    "\\end{equation}\n",
    "\n",
    "However on the side walls the calculation is more complicated since the the pressure distribution on the side walls increases with depth. As shown above it is zero at the surface and increases to some maximum value. This is an important engineering problem as it determines the structural strength required in many engineering areas such as hydroelectric power generation, marine engineering and civil engineering.\n",
    "\n",
    "## Hydrostatic force on an arbitrarily inclined surface\n",
    "\n",
    "In order to determine the force acting on a vertical place surface, as in the case of the swimming pool, it is better to generalise the problem and consider any surface at some angle on inclination $\\theta$. The 3D model below shows such a generalised shape. A coordinate system $(x, y, z)$ is inclined at the angle $\\theta$ along the wall of interest."
   ]
  },
  {
   "cell_type": "code",
   "execution_count": 1,
   "metadata": {},
   "outputs": [
    {
     "data": {
      "text/html": [
       "\n",
       "        <iframe\n",
       "            width=\"100%\"\n",
       "            height=\"600px\"\n",
       "            src=\"https://nolankucd.github.io/MEEN20010/media/2.3/hydrostatic_plane_surf.html\"\n",
       "            frameborder=\"0\"\n",
       "            allowfullscreen\n",
       "            \n",
       "        ></iframe>\n",
       "        "
      ],
      "text/plain": [
       "<IPython.lib.display.IFrame at 0x10403f6d0>"
      ]
     },
     "execution_count": 1,
     "metadata": {},
     "output_type": "execute_result"
    }
   ],
   "source": [
    "from IPython.display import IFrame\n",
    "IFrame('https://nolankucd.github.io/MEEN20010/media/2.3/hydrostatic_plane_surf.html', '100%', '600px')"
   ]
  },
  {
   "cell_type": "markdown",
   "metadata": {},
   "source": [
    "### Taking a view of the inclined side wall we can take an arbitrary area A as shown:\n",
    "\n",
    "<img src=\"media/2.3/hydrostatic_plane_surf_0.png\" alt=\"Hydrostatic force on an inclined plane\" width=\"600\" title=\"Hydrostatic force on an inclined plane\" />\n",
    "\n",
    "\n",
    "If we consider an infinitesimal element of area $dA$ residing in the arbitrary area $A$ on the inclined wall, we can use what we already know compute the hydrostatic pressure $dp$ at the depth $h$.\n",
    "\n",
    "\\begin{align}\n",
    "dp = \\rho g h = \\gamma h\n",
    "\\end{align}\n",
    "\n",
    "The force $dF$ acting on the element is then:\n",
    "\n",
    "\\begin{align}\n",
    "dF = \\gamma h~{d\\!A} = \\gamma [\\mathrm{y}\\sin{\\theta}]~{d\\!A}\n",
    "\\end{align}\n",
    "\n",
    "Integrating over the entirety of area $A$ allows us to compute the resultant force from the forces acting on each element of $A$.\n",
    "\n",
    "\\begin{align}\n",
    "F_R = \\gamma \\sin(\\theta) \\int_A \\mathrm{y}~{d\\!A}\n",
    "\\end{align}\n",
    "\n",
    "You may recognise that the integral takes the form of the *First Moment of Area*:\n",
    "\n",
    "\\begin{align}\n",
    "\\int_A \\mathrm{y}~{d\\!A} = \\mathrm{y_c} A\n",
    "\\end{align}\n",
    "\n",
    "Which gives us:\n",
    "\n",
    "\\begin{align}\n",
    "F_R = \\gamma \\sin(\\theta)~\\mathrm{y_c} A\n",
    "\\end{align}\n",
    "\n",
    "Where $\\mathrm{y_c}$ is the position of the centroid of $A$ along the local $y$-axis.\n",
    "\n",
    "We can write this in terms of $h_c$:\n",
    "\n",
    "<div class=\"alert alert-block alert-info\">\n",
    "\\begin{align}\n",
    "F_R = \\gamma h_c A\n",
    "\\end{align}\n",
    "</div>\n",
    "\n",
    "However you will notice in the diagram below that the force $F_R$ does not pass through the centroid located at a depth $h_c$. This makes intuitive sense. The lower elements in area $A$ will experience greater force $dF$ than those closer to the surface. Therefore the force will be *distributed* towards the bottom and the resultant of that force will therefore be lower than the centroid.\n",
    "\n",
    "<img src=\"media/2.3/hydrostatic_plane_surf_1.png\" alt=\"Hydrostatic force on an inclined plane\" width=\"600\" title=\"Hydrostatic force on an inclined plane\" />\n",
    "\n",
    "Next we need to compute the distance $\\mathrm{y_R}$ the distance at which the force $F_R$ acts. To do this we take moments about $x$ for every force $dF$ acting at every distance $\\mathrm{y}$ for every infinitesimal element in area $A$.\n",
    "\n",
    "<img src=\"media/2.3/hydrostatic_plane_surf_2.png\" alt=\"Hydrostatic force on an inclined plane\" width=\"600\" title=\"Hydrostatic force on an inclined plane\" />\n",
    "\n",
    "\\begin{align}\n",
    "F_R \\mathrm{y_R} = \\int_A \\mathrm{y}~{d\\!F} = \\gamma \\sin{\\theta} \\int_A \\mathrm{y}^2~{d\\!A}\n",
    "\\end{align}\n",
    "\n",
    "Since $F_R = \\gamma\\sin{\\theta}~\\mathrm{y_c} A$ we can substitute and obtain:\n",
    "\n",
    "\\begin{align}\n",
    "\\mathrm{y_R} = \\frac{1}{A\\mathrm{y_c}} \\int_A \\mathrm{y}^2~{d\\!A}\n",
    "\\end{align}\n",
    "\n",
    "The *second moment of area* has the form:\n",
    "\n",
    "\\begin{align}\n",
    "I_x = \\int_A \\mathrm{y^2}~{d\\!A}\n",
    "\\end{align}\n",
    "\n",
    "therefore:\n",
    "\n",
    "\\begin{align}\n",
    "\\mathrm{y_R} = \\frac{I_x}{A\\mathrm{y_c}}\n",
    "\\end{align}\n",
    "\n",
    "\n",
    "We can employ the *parallel-axis theorem* to determine the second moment of area about $\\mathrm{y_R}$ relative to that around the centroid. \n",
    "\n",
    "\\begin{align}\n",
    "I_x = I_{xc} + A\\mathrm{y^2_c}\n",
    "\\end{align}\n",
    "\n",
    "which yields:\n",
    "\n",
    "<div class=\"alert alert-block alert-info\">\n",
    "\\begin{align}\n",
    "\\mathrm{y_R} =  \\frac{I_{xc} + A\\mathrm{y^2_c}}{A\\mathrm{y_c}} =  \\frac{I_{xc}}{A\\mathrm{y_c}} + \\mathrm{y_c}\n",
    "\\end{align}\n",
    "</div>\n",
    "\n",
    "We have already seen the denominator, $A\\mathrm{y_c}$; it is the first moment of area and the numerator $I_{xc}$ is the second moment of area about the centroid, both of which have positive values. Therefore the distance $\\frac{I_{xc}}{A\\mathrm{y_c}} > 0$ which means that $\\mathrm{y_R}$ is always lower than $\\mathrm{y_c}$.\n",
    "\n",
    "Combining the above figures:\n",
    "\n",
    "<img src=\"media/2.3/hydrostatic_plane_surf_3.png\" alt=\"Hydrostatic force on an inclined plane\" width=\"600\" title=\"Hydrostatic force on an inclined plane\" />\n",
    "\n",
    "### Location of $F_R$ in the $x$ direction\n",
    "\n",
    "To locate the point which $F_R$ acts in the $x$-direction we take moments about the $y$-axis.\n",
    "\n",
    "\\begin{align}\n",
    "F_R \\mathrm{x_R} = \\int_A \\mathrm{x}~{d\\!F} = \\int_A \\gamma \\sin{\\theta}~\\mathrm{xy}~{d\\!A}\n",
    "\\end{align}\n",
    "\n",
    "Since $F_R = \\gamma\\sin{\\theta}~\\mathrm{y_c} A$ we can again substitute and obtain:\n",
    "\n",
    "\\begin{align}\n",
    "\\mathrm{x_R} = \\frac{\\int_A \\mathrm{xy}~{d\\!A}}{A\\mathrm{y_c}} = \\frac{I_{xy}}{A\\mathrm{y_c}}\n",
    "\\end{align}\n",
    "\n",
    "Once more invoking the parallel-axis theorem \n",
    "\n",
    "\\begin{align}\n",
    "I_{xy} = I_{xyc} + A\\mathrm{x_c y_c}\n",
    "\\end{align}\n",
    "\n",
    "we obtain:\n",
    "\n",
    "<div class=\"alert alert-block alert-info\">\n",
    "\\begin{align}\n",
    "\\mathrm{x_R} =  \\frac{I_{xyc} + A\\mathrm{x_cy_c}}{A\\mathrm{y_c}} =  \\frac{I_{xyc}}{A\\mathrm{y_c}} + \\mathrm{x_c}\n",
    "\\end{align}\n",
    "</div>\n",
    "\n",
    "Munsen *et al.*[1] provides a useful reference of a the geometric properties for a number of common shapes. A version of it is reproduced here and will also be available in the final exam.\n",
    "\n",
    "<img src=\"media/2.3/geometric_properties.png\" alt=\"Geometric properties of common shapes\" width=\"600\" title=\"Geometric properties of common shapes\" />\n"
   ]
  },
  {
   "cell_type": "markdown",
   "metadata": {},
   "source": [
    "## Example\n",
    "\n",
    "This example is taken from Munsen *et al.* [1].\n",
    "\n",
    "\n",
    "A $4m$ diameter circular gate is located in the inclined wall of a large reservoir containing water. The gate is mounted on a shaft along its horizontal diameter.\n",
    "\n",
    "<img src=\"media/2.3/example.png\" alt=\"Hydrostatic force on an inclined plane\" width=\"600\" title=\"Hydrostatic force on an inclined plane\" />\n",
    "\n",
    "For a water depth of $10m$ above the shaft determine:\n",
    "\n",
    "1. the magnitude and location of the resultant force exerted on the gate by the water, and \n",
    "2. the moment that would have to be applied to the shaft to open the gate.\n",
    "\n",
    "$\\gamma =9.8kN m^3$\n",
    "\n",
    "\n",
    "## Part 1\n",
    "\n",
    "The resultant force, as we have seen above, may be determined from \n",
    "\n",
    "\\begin{equation*}\n",
    "F_R = \\gamma h_c A = (9800)(10)\\frac{\\pi 4^2}{4} = 1.23\\times 10^6~N\n",
    "\\end{equation*}\n",
    "\n",
    "To determine the centre of pressure we once again follow the above derivation. We have shown:\n",
    "\n",
    "\\begin{equation*}\n",
    "\\mathrm{y_R} =  \\frac{I_{xc}}{A\\mathrm{y_c}} + \\mathrm{y_c}\n",
    "\\end{equation*}\n",
    "\n",
    "We need $I_{xc}$ and $y_c$ to compute $\\mathrm{y_R}$. For a circle we now know \n",
    "\n",
    "\\begin{equation*}\n",
    "I_{xc} = \\frac{\\pi R^4}{4} = \\frac{\\pi 2^4}{4} = 12.57m^4\n",
    "\\end{equation*}\n",
    "\n",
    "Next we can calculate the distance along the angled wall\n",
    "\n",
    "\\begin{equation*}\n",
    "y_c = \\frac{h_c}{\\sin{\\theta}} = \\frac{10}{\\sin{60^\\circ}} = 11.55m\n",
    "\\end{equation*}\n",
    "\n",
    "Now can can solve part 1.\n",
    "\n",
    "\\begin{equation*}\n",
    "\\mathrm{y_R} =  \\frac{I_{xc}}{A\\mathrm{y_c}} + \\mathrm{y_c} = \\frac{12.57}{(12.57)(11.55)} + 11.55 = 0.0866+11.55 = 11.64m\n",
    "\\end{equation*}\n",
    "\n",
    "## Part 2\n",
    "\n",
    "The moment $M$ required to open the gate may be determined by taking moments about the gate shaft.\n",
    "The distance $(\\mathrm{y_R} − y_c )$ is where the force $F_R$ acts relative to the shaft.\n",
    "\n",
    "\\begin{align*}\n",
    "M &= F_R (\\mathrm{y_R} − y_c )\\\\\n",
    "  &=  (1.23\\times 10^6)(0.0866 ) = 1.07\\times 10^5 Nm\n",
    "\\end{align*}"
   ]
  },
  {
   "cell_type": "markdown",
   "metadata": {},
   "source": [
    "# The Pressure Prism — A graphical approach\n",
    "\n",
    "The pressure prism is a graphical method to determine the hydrostatic force acting on a plane vertical area. You may find it more intuitive than the more general but mathematical method above.\n",
    "\n",
    "To obtain the pressure prism we will use the previous approach and make some general observations.\n",
    "\n",
    "To determine the magnitude of the force acting on the vertical wall we simply compute the pressure at the location of $h_c$, the centroid of the surface, which for a vertical wall is halfway down the wall.\n",
    "\n",
    "<div class=\"alert alert-block alert-info\">\n",
    "\\begin{align}\n",
    "F_R = \\gamma h_c A\n",
    "\\end{align}\n",
    "</div>\n",
    "\n",
    "Which is simply the average pressure on the wall times the area.\n",
    "\n",
    "\\begin{align}\n",
    "F_R = p_{average} A = \\left(\\frac{\\gamma h}{2}\\right) \\left( b h \\right) = \\left(\\frac{\\gamma b h^2}{2}\\right)\n",
    "\\end{align}\n",
    "\n",
    "The hydrostatic pressure distribution on the wall is shown below in red. Each red vector represents the force acting on each element $dA$ of the wall. We can see that this distribution of forces has a shape — a prism.\n",
    "\n",
    "The 'volume' of this pressure prism, ${\\rlap{V}-}$, is given by\n",
    "\n",
    "\\begin{align}\n",
    "{\\rlap{V}-} = \\frac{1}{2} \\left( \\gamma h \\right) \\left( h \\right) \\left( b \\right) = \\left( \\frac{\\gamma b h^2}{2} \\right)\n",
    "\\end{align}\n",
    "\n",
    "so that the volume of the pressure prism is equivalent to the resultant force $F_R$. This should make intuitive sense since calculating the volume is the same as integrating over the pressure distribution."
   ]
  },
  {
   "cell_type": "code",
   "execution_count": 2,
   "metadata": {},
   "outputs": [
    {
     "data": {
      "text/html": [
       "\n",
       "        <iframe\n",
       "            width=\"100%\"\n",
       "            height=\"600px\"\n",
       "            src=\"https://nolankucd.github.io/MEEN20010/media/2.3/pressure_prism.html\"\n",
       "            frameborder=\"0\"\n",
       "            allowfullscreen\n",
       "            \n",
       "        ></iframe>\n",
       "        "
      ],
      "text/plain": [
       "<IPython.lib.display.IFrame at 0x104073a60>"
      ]
     },
     "execution_count": 2,
     "metadata": {},
     "output_type": "execute_result"
    }
   ],
   "source": [
    "IFrame('https://nolankucd.github.io/MEEN20010/media/2.3/pressure_prism.html', '100%', '600px')"
   ]
  },
  {
   "cell_type": "markdown",
   "metadata": {},
   "source": [
    "To compute the vertical location where the resulting lumped force $F_R$ occurs we use\n",
    "\n",
    "\\begin{align}\n",
    "I_{yc} = \\frac{b h^3}{12}\n",
    "\\end{align}\n",
    "\n",
    "and \n",
    "\n",
    "\\begin{align}\n",
    "y_R = \\frac{I_{yc}}{y_c A} + y_c\n",
    "\\end{align}\n",
    "\n",
    "where $y_c = h/2$\n",
    "\n",
    "which yields\n",
    "\n",
    "\\begin{align}\n",
    "y_R = \\left (\\frac{b h^3}{12} \\right) \\left( \\frac{2}{h b h} \\right) + \\frac{h}{2} = \\frac{b h^3}{6 b h^2} + \\frac{h}{2} = \\frac{h}{6} + \\frac{3 h}{6} = \\frac{2 h}{3}\n",
    "\\end{align}\n",
    "\n",
    "which is $\\frac{2}{3}h$ measured from the free surface or $\\frac{1}{3}h$ measured from the bottom."
   ]
  },
  {
   "cell_type": "markdown",
   "metadata": {},
   "source": [
    "# Applied to a submerged surface\n",
    "\n",
    "Sometimes the surface of interest is smaller than the entire vertical wall, such as an observation window, or access panel. The same method can be used with some care. Looking at the 3D model we can see that the orange vectors represent the pressure on our surface of interest."
   ]
  },
  {
   "cell_type": "code",
   "execution_count": 3,
   "metadata": {},
   "outputs": [
    {
     "data": {
      "text/html": [
       "\n",
       "        <iframe\n",
       "            width=\"100%\"\n",
       "            height=\"600px\"\n",
       "            src=\"https://nolankucd.github.io/MEEN20010/media/2.3/pressure_prism1.html\"\n",
       "            frameborder=\"0\"\n",
       "            allowfullscreen\n",
       "            \n",
       "        ></iframe>\n",
       "        "
      ],
      "text/plain": [
       "<IPython.lib.display.IFrame at 0x104073280>"
      ]
     },
     "execution_count": 3,
     "metadata": {},
     "output_type": "execute_result"
    }
   ],
   "source": [
    "IFrame('https://nolankucd.github.io/MEEN20010/media/2.3/pressure_prism1.html', '100%', '600px')"
   ]
  },
  {
   "cell_type": "markdown",
   "metadata": {},
   "source": [
    "The pressure prism in this region is not triangular as before, but is quadrilateral and is made up of a rectangular region and a triangular combined. The rectangular region accounts for the influence of the water above the surface of interest and the triangular region accounts for the variation across the height of the surface.\n",
    "\n",
    "<img src=\"media/2.3/pressure_prism.png\" alt=\"Pressure prism for a submerged surface\" width=\"800\" title=\"Pressure prism for a submerged surface\" />"
   ]
  },
  {
   "cell_type": "markdown",
   "metadata": {},
   "source": [
    "The resultant force is:\n",
    "\n",
    "\\begin{align}\n",
    "F_R = F_1 + F_2\n",
    "\\end{align}\n",
    "\n",
    "The force due to the rectangular region is the pressure $\\gamma h_1$ times the area $b(h_2 - h_1)$:\n",
    "\n",
    "\\begin{align}\n",
    "F_1 = \\gamma h_1 b(h_2 - h_1)\n",
    "\\end{align}\n",
    "\n",
    "and the force due to the triangular region is obtained as above for a triangular pressure prism by computing the volume of the prism. Half the base by the height, times the width $b$.\n",
    "\n",
    "\\begin{align}\n",
    "F_2 = \\gamma \\frac{h_2 - h_1}{2} b(h_2 - h_1)\n",
    "\\end{align}\n",
    "\n",
    "To obtain $F_R$ we can take moments about the point A.\n",
    "\n",
    "\\begin{align}\n",
    "F_R y_A = F_1 y_1 + F_2 y_2\n",
    "\\end{align}\n",
    "\n",
    "where\n",
    "\n",
    "\\begin{align}\n",
    "y_1 = \\frac{(h_2 - h1)}{2},~~y2 = \\frac{2}{3}(h_2 - h_1)\n",
    "\\end{align}"
   ]
  },
  {
   "cell_type": "markdown",
   "metadata": {},
   "source": [
    "# Hydrostatic force on a curved surface\n",
    "\n",
    "We can apply the same logic to curves surfaces by remembering that the pressure at any point is a function of the vertical depth only. We can define a region of fluid that encapsulates the curved region of the geometry shown below and consider the pressure acting on the flat sides of this region."
   ]
  },
  {
   "cell_type": "code",
   "execution_count": 4,
   "metadata": {},
   "outputs": [
    {
     "data": {
      "text/html": [
       "\n",
       "        <iframe\n",
       "            width=\"100%\"\n",
       "            height=\"600px\"\n",
       "            src=\"https://nolankucd.github.io/MEEN20010/media/2.3/pressure_prism_curved.html\"\n",
       "            frameborder=\"0\"\n",
       "            allowfullscreen\n",
       "            \n",
       "        ></iframe>\n",
       "        "
      ],
      "text/plain": [
       "<IPython.lib.display.IFrame at 0x104073190>"
      ]
     },
     "execution_count": 4,
     "metadata": {},
     "output_type": "execute_result"
    }
   ],
   "source": [
    "IFrame('https://nolankucd.github.io/MEEN20010/media/2.3/pressure_prism_curved.html', '100%', '600px')"
   ]
  },
  {
   "cell_type": "markdown",
   "metadata": {},
   "source": [
    "Let's use all the things we've learned to tackle this problem. We can find the force $F_1$ acting on the top of our region of fluid by using Pascal's law\n",
    "\n",
    "\\begin{align}\n",
    "    F_1 = \\gamma h\n",
    "\\end{align}\n",
    "\n",
    "where h is the depth to this imaginary surface.\n",
    "\n",
    "However the vertical force experienced at the bottom of the vessel is $F_1$ plus the weight $W$ of the fluid in our imaginary region of fluid.\n",
    "\n",
    "\\begin{align}\n",
    "    F_V = F_1 + W\n",
    "\\end{align}\n",
    "\n",
    "Considering the side of our region of fluid we can observe that it is identical to our previous example with a submerged surface. The horizontal force $F_H$ is balanced by $F_2$.\n",
    "\n",
    "\\begin{align}\n",
    "    F_H = F_2\n",
    "\\end{align}\n",
    "\n",
    "<img src=\"media/2.3/pressure_prisim_curved.png\" alt=\"Pressure prism for a curved surface\" width=\"800\" title=\"Pressure prism for a curved surface\" />\n",
    "\n"
   ]
  },
  {
   "cell_type": "markdown",
   "metadata": {},
   "source": [
    "So we can calculate $F_H$ by considering the quadrilateral and triangular portions of the pressure prism and $F_V by considering the weight of the fluid. The resultant force $F_R$ is then:\n",
    "\n",
    "\\begin{align}\n",
    "    F_R = \\sqrt{F_H^2 + F_V^2}\n",
    "\\end{align}\n",
    "\n",
    "and it passes through the point $O$ which is vertically aligned with $F_H$ (and therefore $F_2$) and horizontally aligned with $F_V$, whose position is obtained by summing the moments of $F_1$ and $W$."
   ]
  },
  {
   "cell_type": "markdown",
   "metadata": {},
   "source": [
    "\n",
    "\n",
    "\n",
    "\n",
    "\n",
    "# Buoyancy\n",
    "\n",
    "See legacy notes\n",
    "\n",
    "# Finishing up\n",
    "\n",
    "We have looked at fluid statics in three separate notebooks covering hydrostatics, manometry and now hydrostatic forces exerted on various containers. "
   ]
  },
  {
   "cell_type": "markdown",
   "metadata": {},
   "source": [
    "# References\n",
    "\n",
    "1. Munson, B.R., Young, D.F., Okiishi, T.H. and Huebsch, W.W., 2010. *\"Fundamentals of Fluid Mechanics\"*. Singapore: Wiley."
   ]
  }
 ],
 "metadata": {
  "kernelspec": {
   "display_name": "Python 3 (ipykernel)",
   "language": "python",
   "name": "python3"
  },
  "language_info": {
   "codemirror_mode": {
    "name": "ipython",
    "version": 3
   },
   "file_extension": ".py",
   "mimetype": "text/x-python",
   "name": "python",
   "nbconvert_exporter": "python",
   "pygments_lexer": "ipython3",
   "version": "3.10.9"
  }
 },
 "nbformat": 4,
 "nbformat_minor": 2
}
